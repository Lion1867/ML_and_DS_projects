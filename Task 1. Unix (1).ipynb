{
 "cells": [
  {
   "cell_type": "markdown",
   "id": "2da46042",
   "metadata": {},
   "source": [
    "# Задания по изучению команд консоли Unix"
   ]
  },
  {
   "cell_type": "markdown",
   "id": "61d12408",
   "metadata": {},
   "source": [
    "## Команда: ls\n",
    "### Справка:\n",
    "Команда ls отображает список файлов и директорий в указанной папке. Без параметров выводит содержимое текущей директории.\n",
    "\n",
    "- ls -l — выводит подробную информацию о файлах.\n",
    "- ls -lh — выводит подробную информацию в удобочитаемом формате (с размерами файлов в удобных единицах).\n",
    "- ls -a — показывает все файлы, включая скрытые (те, которые начинаются с точки).\n",
    "- ls -i — выводит инодовую информацию (уникальные идентификаторы файлов).\n",
    "\n",
    "### Пример использования:\n",
    "\n",
    "```\n",
    "ls          # Показывает содержимое текущей директории\n",
    "ls -l       # Показывает подробную информацию (права доступа, размер и т.д.)\n",
    "ls -a       # Показывает также скрытые файлы\n",
    "ls /home    # Показывает содержимое директории /home\n",
    "```\n",
    "## Задание 1:\n",
    "\n",
    "В Jupyter Notebook выполните команду для отображения подробного списка всех файлов, включая скрытые, в текущей директории.\n",
    "Затем выполните команду для отображения содержимого директории /tmp.\n"
   ]
  },
  {
   "cell_type": "code",
   "execution_count": 4,
   "id": "089afc73-90a7-4e13-8077-fdf8cb13f146",
   "metadata": {},
   "outputs": [
    {
     "name": "stdout",
     "output_type": "stream",
     "text": [
      "total 56\n",
      "drwxrwsr-x 11 root   users  4096 Feb 12 04:03  .\n",
      "drwxr-xr-x  1 root   root   4096 Dec  3 19:00  ..\n",
      "drwxr-sr-x  2 jovyan users  4096 Feb 12 04:03  .ipynb_checkpoints\n",
      "drwxr-sr-x  3 jovyan users  4096 Feb 12 03:59  .ipython\n",
      "drwxr-sr-x  3 jovyan users  4096 Feb 12 03:58  .jupyter\n",
      "drwxr-sr-x  3 jovyan users  4096 Feb 12 03:57  .local\n",
      "drwxrwxrwx  2 root   root   4096 Feb 12 03:56  __DATA\n",
      "drwxr-sr-x  7 jovyan users  4096 Feb 12 04:02  __MANUAL\n",
      "drwxrwxrwx  2 root   root   4096 Feb 12 03:56  __SHARED\n",
      "drwxrws---  2 root   users 16384 Feb 12 03:57  lost+found\n",
      "drwxr-sr-x  3 jovyan users  4096 Feb 12 04:13 'Задание 1'\n"
     ]
    }
   ],
   "source": [
    "!ls -la"
   ]
  },
  {
   "cell_type": "code",
   "execution_count": 5,
   "id": "ea7da61c-43e2-40c7-89d0-8345c3b161b5",
   "metadata": {},
   "outputs": [
    {
     "name": "stdout",
     "output_type": "stream",
     "text": [
      "manual\n"
     ]
    }
   ],
   "source": [
    "!ls /tmp"
   ]
  },
  {
   "cell_type": "markdown",
   "id": "b398ca71",
   "metadata": {},
   "source": [
    "## Команда: pwd\n",
    "### Справка:\n",
    "Команда pwd (print working directory) выводит текущую рабочую директорию, в которой вы находитесь.\n",
    "\n",
    "### Пример использования:\n",
    "\n",
    "```\n",
    "pwd         # Показывает полный путь текущей директории\n",
    "``` \n",
    "## Задание 2:\n",
    "Определите текущую рабочую директорию, в которой вы находитесь, и сохраните результат в переменную Python.\n"
   ]
  },
  {
   "cell_type": "code",
   "execution_count": 6,
   "id": "ca8800f8-cc22-40a2-a606-13adccdea699",
   "metadata": {},
   "outputs": [
    {
     "name": "stdout",
     "output_type": "stream",
     "text": [
      "/home/jovyan\n"
     ]
    }
   ],
   "source": [
    "!pwd"
   ]
  },
  {
   "cell_type": "code",
   "execution_count": 15,
   "id": "091b2367-829a-4ac3-9c45-362b71839588",
   "metadata": {},
   "outputs": [
    {
     "name": "stdout",
     "output_type": "stream",
     "text": [
      "['/home/jovyan']\n"
     ]
    }
   ],
   "source": [
    "current_working_directory = !pwd\n",
    "print(current_working_directory)"
   ]
  },
  {
   "cell_type": "markdown",
   "id": "1c0b8842",
   "metadata": {},
   "source": [
    "## Команда: cd\n",
    "### Справка:\n",
    "Команда cd (change directory) используется для перехода между директориями.\n",
    "\n",
    "### Пример использования:\n",
    "\n",
    "```\n",
    "cd /home/user   # Переход в директорию /home/user\n",
    "cd ..           # Переход в родительскую директорию\n",
    "cd ~            # Переход в домашнюю директорию\n",
    "```\n",
    "## Задание 3:\n",
    "\n",
    "Перейдите в директорию /tmp.\n",
    "Вернитесь обратно в домашнюю директорию.\n",
    "\n"
   ]
  },
  {
   "cell_type": "code",
   "execution_count": 13,
   "id": "e56729eb-4ef7-4b2e-831b-82341a2e1ff6",
   "metadata": {},
   "outputs": [
    {
     "name": "stdout",
     "output_type": "stream",
     "text": [
      "/tmp\n"
     ]
    }
   ],
   "source": [
    "!cd /tmp && pwd"
   ]
  },
  {
   "cell_type": "code",
   "execution_count": 14,
   "id": "a296855c-b2e2-4fcd-bf0d-db882f358285",
   "metadata": {},
   "outputs": [
    {
     "name": "stdout",
     "output_type": "stream",
     "text": [
      "/home/jovyan\n"
     ]
    }
   ],
   "source": [
    "!cd ~ && pwd"
   ]
  },
  {
   "cell_type": "markdown",
   "id": "27cbb8b3",
   "metadata": {},
   "source": [
    "## Команда: echo\n",
    "### Справка:\n",
    "Команда echo используется для вывода текста в консоль. Она также может записывать текст в файлы и выводить значения переменных.\n",
    "\n",
    "### Пример использования:\n",
    "\n",
    "```\n",
    "echo \"Hello, world!\"           # Вывод текста \"Hello, world!\" в консоль\n",
    "echo $HOME                     # Вывод значения переменной окружения HOME\n",
    "echo \"Hello, Hadoop!\" > file.txt  # Запись текста \"Hello, Hadoop!\" в файл file.txt\n",
    "echo \"New line\" >> file.txt    # Добавление строки \"New line\" в конец файла file.txt\n",
    "``` \n",
    "## Задание 4:\n",
    "\n",
    "Выведите в консоль фразу Big Data is amazing! с помощью команды echo.\n",
    "Создайте файл info.txt и запишите в него фразу I am learning Unix commands.\n",
    "Добавьте к файлу info.txt еще одну строку: echo helps to print text.\n",
    "Выведите содержимое файла info.txt с помощью команды cat.\n",
    "\n"
   ]
  },
  {
   "cell_type": "code",
   "execution_count": 17,
   "id": "cb332d9f-ad39-4ee9-86d1-d0e73115d2df",
   "metadata": {},
   "outputs": [
    {
     "name": "stdout",
     "output_type": "stream",
     "text": [
      "Большие данные — это потрясающе!\n"
     ]
    }
   ],
   "source": [
    "!echo \"Большие данные — это потрясающе!\""
   ]
  },
  {
   "cell_type": "code",
   "execution_count": 18,
   "id": "df15542a-c64a-4f7f-a0dd-42d87ebedc0f",
   "metadata": {},
   "outputs": [],
   "source": [
    "!echo \"Я изучаю команды Unix\" > info.txt"
   ]
  },
  {
   "cell_type": "code",
   "execution_count": 19,
   "id": "b9ea9781-1d29-4071-a3fb-01a678164d06",
   "metadata": {},
   "outputs": [],
   "source": [
    "!echo \"echo помогает выводить текст\" >> info.txt"
   ]
  },
  {
   "cell_type": "code",
   "execution_count": 20,
   "id": "b9d6ad58-ab3b-43a2-bc97-65ea1bb93789",
   "metadata": {},
   "outputs": [
    {
     "name": "stdout",
     "output_type": "stream",
     "text": [
      "Я изучаю команды Unix\n",
      "echo помогает выводить текст\n"
     ]
    }
   ],
   "source": [
    "!cat info.txt"
   ]
  },
  {
   "cell_type": "markdown",
   "id": "f68f5798",
   "metadata": {},
   "source": [
    "## Команда: cat\n",
    "### Справка:\n",
    "Команда cat (concatenate) используется для просмотра содержимого файла.\n",
    "\n",
    "### Пример использования:\n",
    "\n",
    "```\n",
    "cat file.txt    # Показывает содержимое файла file.txt\n",
    "```\n",
    "## Задание 5:\n",
    "\n",
    "Создайте файл с именем example.txt, содержащий текст Hello, Hadoop!.\n",
    "Выведите содержимое файла с помощью команды cat.\n"
   ]
  },
  {
   "cell_type": "code",
   "execution_count": 21,
   "id": "1f9c0150-9a6f-4321-84ba-6b6ee521b397",
   "metadata": {},
   "outputs": [],
   "source": [
    "!echo \"Привет, Hadoop!\" > example.txt"
   ]
  },
  {
   "cell_type": "code",
   "execution_count": 22,
   "id": "43e234f2-95ae-40a3-9219-9a7f212838e0",
   "metadata": {},
   "outputs": [
    {
     "name": "stdout",
     "output_type": "stream",
     "text": [
      "Привет, Hadoop!\n"
     ]
    }
   ],
   "source": [
    "!cat example.txt"
   ]
  },
  {
   "cell_type": "markdown",
   "id": "89e8ad88",
   "metadata": {},
   "source": [
    "## Команда: grep\n",
    "### Справка:\n",
    "Команда grep используется для поиска строк в файлах, которые содержат заданный шаблон.\n",
    "\n",
    "### Пример использования:\n",
    "\n",
    "```\n",
    "grep \"Hadoop\" example.txt    # Находит строки, содержащие слово \"Hadoop\"\n",
    "```\n",
    "## Задание 6:\n",
    "\n",
    "Найдите строку, содержащую слово Unix, в файле info.txt.\n"
   ]
  },
  {
   "cell_type": "code",
   "execution_count": 23,
   "id": "6bd67690-ddf9-4992-87c2-33cb7e47f7eb",
   "metadata": {},
   "outputs": [
    {
     "name": "stdout",
     "output_type": "stream",
     "text": [
      "Я изучаю команды Unix\n"
     ]
    }
   ],
   "source": [
    "!grep \"Unix\" info.txt"
   ]
  },
  {
   "cell_type": "markdown",
   "id": "5e1537da",
   "metadata": {},
   "source": [
    "## Команда: head и tail\n",
    "### Справка:\n",
    "Команды head и tail выводят первые или последние строки файла.\n",
    "\n",
    "### Пример использования:\n",
    "\n",
    "```\n",
    "head -n 5 file.txt   # Первые 5 строк файла\n",
    "tail -n 5 file.txt   # Последние 5 строк файла\n",
    "```\n",
    "\n",
    "## Задание 7:\n",
    "\n",
    "Создайте файл data.txt, содержащий числа от 1 до 10 (по одному числу на строку).\n",
    "Выведите первые 3 строки файла с помощью head.\n",
    "Выведите последние 3 строки файла с помощью tail.\n"
   ]
  },
  {
   "cell_type": "code",
   "execution_count": 24,
   "id": "07c6722e-37d6-4a61-9499-eefd56c0029f",
   "metadata": {},
   "outputs": [],
   "source": [
    "!echo -e \"1\\n2\\n3\\n4\\n5\\n6\\n7\\n8\\n9\\n10\" > data.txt"
   ]
  },
  {
   "cell_type": "code",
   "execution_count": 25,
   "id": "6035a511-8f65-493c-b4e6-857224b9785e",
   "metadata": {},
   "outputs": [
    {
     "name": "stdout",
     "output_type": "stream",
     "text": [
      "1\n",
      "2\n",
      "3\n",
      "4\n",
      "5\n",
      "6\n",
      "7\n",
      "8\n",
      "9\n",
      "10\n"
     ]
    }
   ],
   "source": [
    "!cat data.txt"
   ]
  },
  {
   "cell_type": "code",
   "execution_count": 26,
   "id": "e8752765-209c-4618-afed-5aa3742fffab",
   "metadata": {},
   "outputs": [
    {
     "name": "stdout",
     "output_type": "stream",
     "text": [
      "1\n",
      "2\n",
      "3\n"
     ]
    }
   ],
   "source": [
    "!head -n 3 data.txt"
   ]
  },
  {
   "cell_type": "code",
   "execution_count": 27,
   "id": "feb252f5-6f00-41e9-a91e-e649b81089f5",
   "metadata": {},
   "outputs": [
    {
     "name": "stdout",
     "output_type": "stream",
     "text": [
      "8\n",
      "9\n",
      "10\n"
     ]
    }
   ],
   "source": [
    "!tail -n 3 data.txt"
   ]
  },
  {
   "cell_type": "markdown",
   "id": "f464f138",
   "metadata": {},
   "source": [
    "## Команда: mkdir\n",
    "### Справка:\n",
    "Команда mkdir (make directory) используется для создания одной или нескольких новых директорий. С флагом -p можно создавать вложенные директории (иерархии) за одну команду.\n",
    "\n",
    "### Пример использования:\n",
    "\n",
    "```\n",
    "mkdir new_folder                # Создает папку new_folder в текущей директории\n",
    "mkdir -p project/data/logs      # Создает вложенную структуру: project → data → logs\n",
    "```\n",
    "\n",
    "## Задание 8: Создание одной папки\n",
    "Создайте папку с именем project в текущей директории.\n",
    "Убедитесь, что папка успешно создана.\n"
   ]
  },
  {
   "cell_type": "code",
   "execution_count": 31,
   "id": "d97e76ae-ceac-4357-8c6c-cb01d9d42092",
   "metadata": {},
   "outputs": [
    {
     "name": "stdout",
     "output_type": "stream",
     "text": [
      "mkdir: cannot create directory ‘project’: File exists\n"
     ]
    }
   ],
   "source": [
    "!mkdir project"
   ]
  },
  {
   "cell_type": "code",
   "execution_count": 32,
   "id": "c430f65f-4d11-46d1-9f62-6643acea197e",
   "metadata": {},
   "outputs": [
    {
     "name": "stdout",
     "output_type": "stream",
     "text": [
      " __DATA     __SHARED   example.txt   lost+found  'Задание 1'\n",
      " __MANUAL   data.txt   info.txt      project\n"
     ]
    }
   ],
   "source": [
    "!ls"
   ]
  },
  {
   "cell_type": "markdown",
   "id": "aab54447",
   "metadata": {},
   "source": [
    "## Задание 9: Создание иерархии папок\n",
    "Создайте иерархию папок project/data/raw за одну команду.\n",
    "Проверьте, что все три уровня директорий успешно созданы.\n"
   ]
  },
  {
   "cell_type": "code",
   "execution_count": 33,
   "id": "38a204aa-9854-4320-827a-5f5cdf0fb00a",
   "metadata": {},
   "outputs": [],
   "source": [
    "!mkdir -p project/data/raw"
   ]
  },
  {
   "cell_type": "code",
   "execution_count": 36,
   "id": "829fc0ad-8487-4696-b828-edd2e2b51c61",
   "metadata": {},
   "outputs": [
    {
     "name": "stdout",
     "output_type": "stream",
     "text": [
      "data\n",
      "raw\n"
     ]
    }
   ],
   "source": [
    "!ls project\n",
    "!ls project/data\n",
    "!ls project/data/raw"
   ]
  },
  {
   "cell_type": "markdown",
   "id": "4ad80056-4353-4455-ace4-b5b2f99ad67f",
   "metadata": {},
   "source": [
    "## Задание 10: Создание нескольких папок\n",
    "Создайте в папке project три папки: scripts, configs и logs.\n",
    "Убедитесь, что все папки созданы.\n"
   ]
  },
  {
   "cell_type": "code",
   "execution_count": 37,
   "id": "d9e63548-0550-469c-89e3-5708d055f971",
   "metadata": {},
   "outputs": [],
   "source": [
    "!mkdir -p project/{scripts,configs,logs}"
   ]
  },
  {
   "cell_type": "code",
   "execution_count": 38,
   "id": "2e9dba69-29e2-437e-94c3-60845efc8eb9",
   "metadata": {},
   "outputs": [
    {
     "name": "stdout",
     "output_type": "stream",
     "text": [
      "configs  data  logs  scripts\n"
     ]
    }
   ],
   "source": [
    "!ls project"
   ]
  },
  {
   "cell_type": "markdown",
   "id": "65428f4b",
   "metadata": {},
   "source": [
    "## Задание 11: Создание сложной структуры\n",
    "Создайте иерархию папок:\n",
    "- project\n",
    "  - src\n",
    "     - main\n",
    "     - test\n",
    "  - docs\n",
    "\n",
    "Убедитесь, что все уровни структуры созданы.\n",
    "Если в папке находятся другие (не по заданию папки), то их нужно удалить. \n",
    "\n"
   ]
  },
  {
   "cell_type": "code",
   "execution_count": 39,
   "id": "1ab91403-10c8-459b-a940-aaaab6d0731c",
   "metadata": {},
   "outputs": [],
   "source": [
    "!mkdir -p project/src/main\n",
    "!mkdir -p project/src/test\n",
    "!mkdir -p project/docs"
   ]
  },
  {
   "cell_type": "code",
   "execution_count": 41,
   "id": "4da11c78-ebcc-4015-8332-7478ddc6a1ae",
   "metadata": {},
   "outputs": [],
   "source": [
    "!rm -r project/configs\n",
    "!rm -r project/logs\n",
    "!rm -r project/data\n",
    "!rm -r project/scripts"
   ]
  },
  {
   "cell_type": "code",
   "execution_count": 42,
   "id": "10346f88-74ec-4582-ade3-974c5bb654e5",
   "metadata": {},
   "outputs": [
    {
     "name": "stdout",
     "output_type": "stream",
     "text": [
      "docs  src\n"
     ]
    }
   ],
   "source": [
    "!ls project"
   ]
  },
  {
   "cell_type": "code",
   "execution_count": 43,
   "id": "288eb990-ae37-402d-8f48-2f05f3277d7e",
   "metadata": {},
   "outputs": [
    {
     "name": "stdout",
     "output_type": "stream",
     "text": [
      "main  test\n"
     ]
    }
   ],
   "source": [
    "!ls project/src"
   ]
  },
  {
   "cell_type": "markdown",
   "id": "fcd69c32",
   "metadata": {},
   "source": [
    "## Команда: rmdir\n",
    "### Справка:\n",
    "Команда rmdir используется для удаления пустых директорий. Она удаляет только те папки, которые не содержат файлов или других папок.\n",
    "\n",
    "### Пример использования:\n",
    "\n",
    "```\n",
    "rmdir folder_name          # Удаляет пустую папку folder_name\n",
    "```\n",
    "## Задание 12: Удаление пустой папки\n",
    "Создайте пустую папку с именем empty_folder.\n",
    "Удалите папку empty_folder с помощью команды rmdir.\n",
    "Убедитесь, что папка была удалена.\n"
   ]
  },
  {
   "cell_type": "code",
   "execution_count": 44,
   "id": "f4eecc8c-e296-4edb-8d7d-bfcf7ad55a76",
   "metadata": {},
   "outputs": [],
   "source": [
    "!mkdir empty_folder"
   ]
  },
  {
   "cell_type": "code",
   "execution_count": 45,
   "id": "b5860a6a-5232-484b-bd26-dd6c5fc6bbe0",
   "metadata": {},
   "outputs": [
    {
     "name": "stdout",
     "output_type": "stream",
     "text": [
      " __DATA     __SHARED   empty_folder   info.txt\t   project\n",
      " __MANUAL   data.txt   example.txt    lost+found  'Задание 1'\n"
     ]
    }
   ],
   "source": [
    "!ls"
   ]
  },
  {
   "cell_type": "code",
   "execution_count": 46,
   "id": "a66a3cb2-9788-45c4-97a6-9b6b05aa5439",
   "metadata": {},
   "outputs": [],
   "source": [
    "!rmdir empty_folder"
   ]
  },
  {
   "cell_type": "code",
   "execution_count": 47,
   "id": "c6d7d503-ead3-4ca5-8239-a39d5ba44ebd",
   "metadata": {},
   "outputs": [
    {
     "name": "stdout",
     "output_type": "stream",
     "text": [
      " __DATA     __SHARED   example.txt   lost+found  'Задание 1'\n",
      " __MANUAL   data.txt   info.txt      project\n"
     ]
    }
   ],
   "source": [
    "!ls"
   ]
  },
  {
   "cell_type": "markdown",
   "id": "2c7e4576",
   "metadata": {},
   "source": [
    "## Команда: rm -r\n",
    "### Справка:\n",
    "Команда rm -r используется для рекурсивного удаления директорий, включая все файлы и подпапки внутри них. Это мощная команда, будьте осторожны при ее использовании.\n",
    "\n",
    "### Пример использования:\n",
    "\n",
    "```\n",
    "rm -r folder_name            # Удаляет папку folder_name и все её содержимое\n",
    "```\n",
    "## Задание 13: Удаление непустой папки\n",
    "Создайте папку с именем data_folder и добавьте в нее несколько файлов (например, file1.txt и file2.txt).\n",
    "Удалите папку data_folder и все её содержимое с помощью команды rm -r.\n",
    "Убедитесь, что папка была удалена, и в текущей директории нет её содержимого.\n"
   ]
  },
  {
   "cell_type": "code",
   "execution_count": 48,
   "id": "b2fb5a3b-1444-4d9c-aee7-08c679257343",
   "metadata": {},
   "outputs": [],
   "source": [
    "!mkdir data_folder"
   ]
  },
  {
   "cell_type": "code",
   "execution_count": 49,
   "id": "b7909f70-8b4c-4ad9-9e21-ddb284f337d3",
   "metadata": {},
   "outputs": [
    {
     "name": "stdout",
     "output_type": "stream",
     "text": [
      " __DATA     __SHARED   data_folder   info.txt\t  project\n",
      " __MANUAL   data.txt   example.txt   lost+found  'Задание 1'\n"
     ]
    }
   ],
   "source": [
    "!ls"
   ]
  },
  {
   "cell_type": "code",
   "execution_count": 50,
   "id": "dc2ff359-e793-4ff2-aa23-939b1938e860",
   "metadata": {},
   "outputs": [],
   "source": [
    "!touch data_folder/file1.txt data_folder/file2.txt"
   ]
  },
  {
   "cell_type": "code",
   "execution_count": 51,
   "id": "c73773b6-543a-4ac2-89a4-f4e64b9c413b",
   "metadata": {},
   "outputs": [
    {
     "name": "stdout",
     "output_type": "stream",
     "text": [
      "file1.txt  file2.txt\n"
     ]
    }
   ],
   "source": [
    "!ls data_folder"
   ]
  },
  {
   "cell_type": "code",
   "execution_count": 52,
   "id": "e30b694c-d4fa-4e4d-886e-8bb5f8c5467a",
   "metadata": {},
   "outputs": [],
   "source": [
    "!rm -r data_folder"
   ]
  },
  {
   "cell_type": "code",
   "execution_count": 53,
   "id": "27f15eac-1eb5-41b5-9a8c-9597b0f3ca4c",
   "metadata": {},
   "outputs": [
    {
     "name": "stdout",
     "output_type": "stream",
     "text": [
      " __DATA     __SHARED   example.txt   lost+found  'Задание 1'\n",
      " __MANUAL   data.txt   info.txt      project\n"
     ]
    }
   ],
   "source": [
    "!ls"
   ]
  },
  {
   "cell_type": "markdown",
   "id": "9ee06afb",
   "metadata": {},
   "source": [
    "## Задание 14: Удаление нескольких папок\n",
    "Создайте три папки: folder1, folder2 и folder3.\n",
    "Удалите все три папки с помощью команды rm -r.\n",
    "Убедитесь, что все три папки были удалены.\n"
   ]
  },
  {
   "cell_type": "code",
   "execution_count": 54,
   "id": "2e339206-209f-479e-b5a5-2923dc3a4e43",
   "metadata": {},
   "outputs": [],
   "source": [
    "!mkdir folder1 folder2 folder3"
   ]
  },
  {
   "cell_type": "code",
   "execution_count": 55,
   "id": "2df09c4d-c7a4-4028-9e84-42488729d4bf",
   "metadata": {},
   "outputs": [
    {
     "name": "stdout",
     "output_type": "stream",
     "text": [
      " __DATA     __SHARED   example.txt   folder2   info.txt     project\n",
      " __MANUAL   data.txt   folder1\t     folder3   lost+found  'Задание 1'\n"
     ]
    }
   ],
   "source": [
    "!ls"
   ]
  },
  {
   "cell_type": "code",
   "execution_count": 56,
   "id": "5a49b9da-0652-47d1-9647-399769a68964",
   "metadata": {},
   "outputs": [],
   "source": [
    "!rm -r folder1 folder2 folder3"
   ]
  },
  {
   "cell_type": "code",
   "execution_count": 57,
   "id": "526107bf-d65a-49f7-984b-10340b0ddc43",
   "metadata": {},
   "outputs": [
    {
     "name": "stdout",
     "output_type": "stream",
     "text": [
      " __DATA     __SHARED   example.txt   lost+found  'Задание 1'\n",
      " __MANUAL   data.txt   info.txt      project\n"
     ]
    }
   ],
   "source": [
    "!ls"
   ]
  },
  {
   "cell_type": "markdown",
   "id": "52ddfb28",
   "metadata": {},
   "source": [
    "## Команда: cp\n",
    "### Справка:\n",
    "Команда cp используется для копирования файлов и директорий.\n",
    "\n",
    "### Пример использования:\n",
    "\n",
    "```\n",
    "cp source.txt destination.txt      # Копирует файл source.txt в destination.txt\n",
    "cp -r folder1 folder2              # Копирует папку folder1 и ее содержимое в папку folder2\n",
    "cp file.txt /path/to/directory/    # Копирует файл file.txt в указанную директорию\n",
    "```\n",
    "## Задание 15:\n",
    "\n",
    "Создайте файл example.txt в текущей директории и запишите в него текст Data transfer is easy!.\n",
    "Создайте новую папку backup.\n",
    "Скопируйте файл example.txt в папку backup.\n",
    "Убедитесь, что файл находится в папке backup.\n"
   ]
  },
  {
   "cell_type": "code",
   "execution_count": 58,
   "id": "5f73889c-2058-49fe-8095-1687e50688a6",
   "metadata": {},
   "outputs": [],
   "source": [
    "!echo \"Data transfer is easy!\" > example.txt"
   ]
  },
  {
   "cell_type": "code",
   "execution_count": 59,
   "id": "e49c4835-8d21-4289-a517-43b479a113af",
   "metadata": {},
   "outputs": [],
   "source": [
    "!mkdir backup"
   ]
  },
  {
   "cell_type": "code",
   "execution_count": 60,
   "id": "120e85d0-510f-4ec6-827f-0ce9dab4d961",
   "metadata": {},
   "outputs": [],
   "source": [
    "!cp example.txt backup/"
   ]
  },
  {
   "cell_type": "code",
   "execution_count": 61,
   "id": "0bb0ea15-1e47-4b34-82c7-26c107b8158f",
   "metadata": {},
   "outputs": [
    {
     "name": "stdout",
     "output_type": "stream",
     "text": [
      "example.txt\n"
     ]
    }
   ],
   "source": [
    "!ls backup/"
   ]
  },
  {
   "cell_type": "code",
   "execution_count": 62,
   "id": "52bffed2-fb8e-4a31-a328-82e01d3e81a7",
   "metadata": {},
   "outputs": [
    {
     "name": "stdout",
     "output_type": "stream",
     "text": [
      "Data transfer is easy!\n"
     ]
    }
   ],
   "source": [
    "!cat backup/example.txt"
   ]
  },
  {
   "cell_type": "markdown",
   "id": "c445472c",
   "metadata": {},
   "source": [
    "## Команда: mv\n",
    "### Справка:\n",
    "Команда mv используется для перемещения файлов или переименования.\n",
    "\n",
    "### Пример использования:\n",
    "\n",
    "```\n",
    "mv source.txt destination.txt      # Перемещает файл и/или переименовывает его\n",
    "mv file.txt /path/to/directory/    # Перемещает файл в указанную директорию\n",
    "mv folder1 /path/to/folder2/       # Перемещает папку folder1 в папку folder2\n",
    "```\n",
    "## Задание 16:\n",
    "\n",
    "Создайте файл log.txt в текущей директории и запишите в него текст Log file for testing.\n",
    "Создайте новую папку logs.\n",
    "Переместите файл log.txt в папку logs.\n",
    "Убедитесь, что файл больше не находится в текущей директории, но есть в папке logs.\n"
   ]
  },
  {
   "cell_type": "code",
   "execution_count": 67,
   "id": "d5db76a4-a6f2-429e-bfa2-f5b1574d9a03",
   "metadata": {},
   "outputs": [],
   "source": [
    "!echo \"Log file for testing\" > log.txt"
   ]
  },
  {
   "cell_type": "code",
   "execution_count": 68,
   "id": "c599537f-d532-45ca-bbaa-b63dee22b789",
   "metadata": {},
   "outputs": [
    {
     "name": "stdout",
     "output_type": "stream",
     "text": [
      " __DATA     __SHARED   data.txt      info.txt   logs\t     project\n",
      " __MANUAL   backup     example.txt   log.txt    lost+found  'Задание 1'\n"
     ]
    }
   ],
   "source": [
    "!ls"
   ]
  },
  {
   "cell_type": "code",
   "execution_count": 69,
   "id": "9e8a5034-caf5-4820-aaf4-a257f7477d76",
   "metadata": {},
   "outputs": [
    {
     "name": "stdout",
     "output_type": "stream",
     "text": [
      "mkdir: cannot create directory ‘logs’: File exists\n"
     ]
    }
   ],
   "source": [
    "!mkdir logs"
   ]
  },
  {
   "cell_type": "code",
   "execution_count": 70,
   "id": "5cd27971-91ec-47ae-84f4-1b04c486935b",
   "metadata": {},
   "outputs": [],
   "source": [
    "!mv log.txt logs/"
   ]
  },
  {
   "cell_type": "code",
   "execution_count": 71,
   "id": "02fbc5c0-15f3-4235-a436-505838d04f40",
   "metadata": {},
   "outputs": [
    {
     "name": "stdout",
     "output_type": "stream",
     "text": [
      " __DATA     __SHARED   data.txt      info.txt   lost+found  'Задание 1'\n",
      " __MANUAL   backup     example.txt   logs       project\n"
     ]
    }
   ],
   "source": [
    "!ls"
   ]
  },
  {
   "cell_type": "code",
   "execution_count": 72,
   "id": "6ce1f296-fb99-4fce-9a35-16ef17ff4311",
   "metadata": {},
   "outputs": [
    {
     "name": "stdout",
     "output_type": "stream",
     "text": [
      "log.txt\n"
     ]
    }
   ],
   "source": [
    "!ls logs/"
   ]
  },
  {
   "cell_type": "code",
   "execution_count": 73,
   "id": "e88ca5b7-74db-4bab-b034-4fcbe915755f",
   "metadata": {},
   "outputs": [
    {
     "name": "stdout",
     "output_type": "stream",
     "text": [
      "Log file for testing\n"
     ]
    }
   ],
   "source": [
    "!cat logs/log.txt"
   ]
  },
  {
   "cell_type": "markdown",
   "id": "152d0f7c",
   "metadata": {},
   "source": [
    "## Команда: tar\n",
    "### Справка:\n",
    "Команда tar используется для создания архивов и извлечения файлов из них. Она поддерживает различные форматы архивов, такие как .tar, .tar.gz, .tar.bz2. Команда также используется для сжатия и распаковки данных.\n",
    "\n",
    "### Пример использования:\n",
    "\n",
    "Создание архива:\n",
    "\n",
    "```\n",
    "tar -cvf archive_name.tar folder_name   # Создает архив archive_name.tar из папки folder_name\n",
    "tar -czvf archive_name.tar.gz folder_name   # Создает сжатый архив .tar.gz\n",
    "```\n",
    "Извлечение архива:\n",
    "\n",
    "```\n",
    "tar -xvf archive_name.tar    # Извлекает содержимое архива .tar\n",
    "tar -xzvf archive_name.tar.gz    # Извлекает содержимое сжатого архива .tar.gz\n",
    "```\n",
    "## Задание 17: Создание архива\n",
    "Создайте папку data_folder и добавьте в неё несколько файлов (например, file1.txt, file2.txt, file3.txt).\n",
    "Создайте архив data_folder.tar из папки data_folder.\n",
    "Убедитесь, что архив был создан.\n",
    "\n",
    "## Задание 18: Сжатие архива\n",
    "Используя команду tar, создайте сжатый архив data_folder.tar.gz из папки data_folder.\n",
    "Убедитесь, что сжатый архив был создан.\n",
    "\n",
    "## Задание 19: Извлечение архива\n",
    "Создайте сжатый архив data_folder.tar.gz, как в задании 2.\n",
    "Извлеките содержимое архива в новую папку extracted_folder.\n",
    "Убедитесь, что содержимое архива извлечено в папку extracted_folder.\n",
    "\n",
    "### Задание 20: Разархивирование нескольких архивов\n",
    "Создайте два архива: archive1.tar.gz и archive2.tar.gz, содержащие разные файлы (например, fileA.txt, fileB.txt в одном и fileC.txt, fileD.txt в другом).\n",
    "Извлеките оба архива в одну папку combined_folder.\n",
    "Убедитесь, что содержимое обоих архивов оказалось в папке combined_folder.\n"
   ]
  },
  {
   "cell_type": "code",
   "execution_count": 74,
   "id": "c723ded2-be9a-4c17-b0ca-de7ac7a61b2c",
   "metadata": {},
   "outputs": [],
   "source": [
    "#17 \n",
    "!mkdir data_folder"
   ]
  },
  {
   "cell_type": "code",
   "execution_count": 75,
   "id": "816039e5-33ff-400b-b603-4b2575b60520",
   "metadata": {},
   "outputs": [],
   "source": [
    "!touch data_folder/file1.txt data_folder/file2.txt data_folder/file3.txt"
   ]
  },
  {
   "cell_type": "code",
   "execution_count": 76,
   "id": "b8aca683-735c-41f0-9c49-7daf8bed16b9",
   "metadata": {},
   "outputs": [
    {
     "name": "stdout",
     "output_type": "stream",
     "text": [
      " __DATA     __SHARED   data.txt      example.txt   logs         project\n",
      " __MANUAL   backup     data_folder   info.txt\t   lost+found  'Задание 1'\n"
     ]
    }
   ],
   "source": [
    "!ls"
   ]
  },
  {
   "cell_type": "code",
   "execution_count": 77,
   "id": "50cea870-f72d-4ec3-bbe6-2d29fa8be757",
   "metadata": {},
   "outputs": [
    {
     "name": "stdout",
     "output_type": "stream",
     "text": [
      "file1.txt  file2.txt  file3.txt\n"
     ]
    }
   ],
   "source": [
    "!ls data_folder"
   ]
  },
  {
   "cell_type": "code",
   "execution_count": 78,
   "id": "33c8f814-6abd-4b0c-976c-2086939f2afb",
   "metadata": {},
   "outputs": [
    {
     "name": "stdout",
     "output_type": "stream",
     "text": [
      "data_folder/\n",
      "data_folder/file1.txt\n",
      "data_folder/file2.txt\n",
      "data_folder/file3.txt\n"
     ]
    }
   ],
   "source": [
    "!tar -cvf data_folder.tar data_folder"
   ]
  },
  {
   "cell_type": "code",
   "execution_count": 79,
   "id": "499c2c9b-9464-4e43-98d4-1a6c89e8bd62",
   "metadata": {},
   "outputs": [
    {
     "name": "stdout",
     "output_type": "stream",
     "text": [
      " __DATA     backup\t  data_folder.tar   logs\t'Задание 1'\n",
      " __MANUAL   data.txt\t  example.txt\t    lost+found\n",
      " __SHARED   data_folder   info.txt\t    project\n"
     ]
    }
   ],
   "source": [
    "!ls"
   ]
  },
  {
   "cell_type": "code",
   "execution_count": 80,
   "id": "095f75e3-0b66-4e2c-a946-f71a334933c4",
   "metadata": {},
   "outputs": [
    {
     "name": "stdout",
     "output_type": "stream",
     "text": [
      "data_folder/\n",
      "data_folder/file1.txt\n",
      "data_folder/file2.txt\n",
      "data_folder/file3.txt\n"
     ]
    }
   ],
   "source": [
    "#18\n",
    "!tar -czvf data_folder.tar.gz data_folder"
   ]
  },
  {
   "cell_type": "code",
   "execution_count": 81,
   "id": "eb47f896-b01b-44ed-8047-80069ca0b8b2",
   "metadata": {},
   "outputs": [
    {
     "name": "stdout",
     "output_type": "stream",
     "text": [
      " __DATA     backup\t  data_folder.tar      info.txt     project\n",
      " __MANUAL   data.txt\t  data_folder.tar.gz   logs\t   'Задание 1'\n",
      " __SHARED   data_folder   example.txt\t       lost+found\n"
     ]
    }
   ],
   "source": [
    "!ls"
   ]
  },
  {
   "cell_type": "code",
   "execution_count": 82,
   "id": "32c5f72f-4d1c-4396-84df-990c7cb73178",
   "metadata": {},
   "outputs": [],
   "source": [
    "#19\n",
    "!mkdir extracted_folder"
   ]
  },
  {
   "cell_type": "code",
   "execution_count": 83,
   "id": "a71080d4-a9f3-4c82-8b39-734079d9522b",
   "metadata": {},
   "outputs": [
    {
     "name": "stdout",
     "output_type": "stream",
     "text": [
      "data_folder/\n",
      "data_folder/file1.txt\n",
      "data_folder/file2.txt\n",
      "data_folder/file3.txt\n"
     ]
    }
   ],
   "source": [
    "!tar -xzvf data_folder.tar.gz -C extracted_folder"
   ]
  },
  {
   "cell_type": "code",
   "execution_count": 84,
   "id": "3da355f8-4255-4809-8e7e-82bc8e2b00a3",
   "metadata": {},
   "outputs": [
    {
     "name": "stdout",
     "output_type": "stream",
     "text": [
      "data_folder\n"
     ]
    }
   ],
   "source": [
    "!ls extracted_folder"
   ]
  },
  {
   "cell_type": "code",
   "execution_count": 85,
   "id": "cea50e9c-219d-495e-847f-bf4f5a8470ad",
   "metadata": {},
   "outputs": [
    {
     "name": "stdout",
     "output_type": "stream",
     "text": [
      "file1.txt  file2.txt  file3.txt\n"
     ]
    }
   ],
   "source": [
    "!ls extracted_folder/data_folder"
   ]
  },
  {
   "cell_type": "code",
   "execution_count": 86,
   "id": "b4dbcc7c-9834-446c-a809-65a3b597544c",
   "metadata": {},
   "outputs": [],
   "source": [
    "#20\n",
    "!touch fileA.txt fileB.txt fileC.txt fileD.txt"
   ]
  },
  {
   "cell_type": "code",
   "execution_count": 87,
   "id": "ad686b17-ee2e-4b67-b355-b86821855adb",
   "metadata": {},
   "outputs": [
    {
     "name": "stdout",
     "output_type": "stream",
     "text": [
      "fileA.txt\n",
      "fileB.txt\n"
     ]
    }
   ],
   "source": [
    "!tar -czvf archive1.tar.gz fileA.txt fileB.txt"
   ]
  },
  {
   "cell_type": "code",
   "execution_count": 88,
   "id": "0ad97185-6707-47dc-bcea-dae18cfcf036",
   "metadata": {},
   "outputs": [
    {
     "name": "stdout",
     "output_type": "stream",
     "text": [
      "fileC.txt\n",
      "fileD.txt\n"
     ]
    }
   ],
   "source": [
    "!tar -czvf archive2.tar.gz fileC.txt fileD.txt"
   ]
  },
  {
   "cell_type": "code",
   "execution_count": 89,
   "id": "cde8c629-11e0-4ff3-98e8-f938f0a26223",
   "metadata": {},
   "outputs": [],
   "source": [
    "!mkdir combined_folder"
   ]
  },
  {
   "cell_type": "code",
   "execution_count": 94,
   "id": "a12b0bbf-4e8f-43b2-b9f4-e8a711697d4e",
   "metadata": {},
   "outputs": [
    {
     "name": "stdout",
     "output_type": "stream",
     "text": [
      "fileA.txt\n",
      "fileB.txt\n"
     ]
    }
   ],
   "source": [
    "!tar -xzvf archive1.tar.gz -C combined_folder"
   ]
  },
  {
   "cell_type": "code",
   "execution_count": 95,
   "id": "a8782f09-a109-42d6-be27-5cc7e7c7bde2",
   "metadata": {},
   "outputs": [
    {
     "name": "stdout",
     "output_type": "stream",
     "text": [
      "fileC.txt\n",
      "fileD.txt\n"
     ]
    }
   ],
   "source": [
    "!tar -xzvf archive2.tar.gz -C combined_folder"
   ]
  },
  {
   "cell_type": "code",
   "execution_count": 96,
   "id": "91f0af2d-6d2a-4c2a-b716-07b08e1abc3e",
   "metadata": {},
   "outputs": [
    {
     "name": "stdout",
     "output_type": "stream",
     "text": [
      "fileA.txt  fileB.txt  fileC.txt  fileD.txt\n"
     ]
    }
   ],
   "source": [
    "!ls combined_folder"
   ]
  },
  {
   "cell_type": "markdown",
   "id": "19bc76b2",
   "metadata": {},
   "source": [
    "## Задание 21: Получение подробной информации о файле\n",
    "Создайте файл file1.txt и запишите в него текст Sample file for testing.\n",
    "Используйте команду ls -l, чтобы вывести подробную информацию о файле file1.txt.\n",
    "Убедитесь, что информация включает размер файла, дату создания и права доступа.\n"
   ]
  },
  {
   "cell_type": "code",
   "execution_count": 97,
   "id": "2e6f86ad-806e-4279-a85a-db2438f83b96",
   "metadata": {},
   "outputs": [],
   "source": [
    "!echo \"Sample file for testing\" > file1.txt"
   ]
  },
  {
   "cell_type": "code",
   "execution_count": 98,
   "id": "f0521536-6a62-401b-b300-5636aeafb17d",
   "metadata": {},
   "outputs": [
    {
     "name": "stdout",
     "output_type": "stream",
     "text": [
      "-rw-r--r-- 1 jovyan users 24 Feb 12 04:52 file1.txt\n"
     ]
    }
   ],
   "source": [
    "!ls -l file1.txt"
   ]
  },
  {
   "cell_type": "markdown",
   "id": "23e4b141",
   "metadata": {},
   "source": [
    "## Задание 22: Получение информации о содержимом папки\n",
    "Создайте папку data_folder и добавьте в неё несколько файлов (например, file1.txt, file2.txt).\n",
    "Используйте команду ls -lh для получения подробной информации о содержимом папки data_folder.\n",
    "Убедитесь, что отображается информация о размере каждого файла и правах доступа.\n"
   ]
  },
  {
   "cell_type": "code",
   "execution_count": 100,
   "id": "c8b0b761-4ebb-40b4-8352-deececa99643",
   "metadata": {},
   "outputs": [],
   "source": [
    "!rm -r data_folder"
   ]
  },
  {
   "cell_type": "code",
   "execution_count": 101,
   "id": "49f45330-cfd6-4dc9-8a9b-39a3e4ce0070",
   "metadata": {},
   "outputs": [
    {
     "name": "stdout",
     "output_type": "stream",
     "text": [
      " __DATA\t\t   combined_folder      file1.txt   logs\n",
      " __MANUAL\t   data.txt\t        fileA.txt   lost+found\n",
      " __SHARED\t   data_folder.tar      fileB.txt   project\n",
      " archive1.tar.gz   data_folder.tar.gz   fileC.txt  'Задание 1'\n",
      " archive2.tar.gz   example.txt\t        fileD.txt\n",
      " backup\t\t   extracted_folder     info.txt\n"
     ]
    }
   ],
   "source": [
    "!ls"
   ]
  },
  {
   "cell_type": "code",
   "execution_count": 102,
   "id": "71ce5025-a0ba-4efa-a02b-976314aee0fd",
   "metadata": {},
   "outputs": [],
   "source": [
    "!mkdir data_folder"
   ]
  },
  {
   "cell_type": "code",
   "execution_count": 103,
   "id": "590020b5-2ce5-4f29-92b3-a018909fbed8",
   "metadata": {},
   "outputs": [
    {
     "name": "stdout",
     "output_type": "stream",
     "text": [
      " __DATA\t\t   combined_folder      extracted_folder   info.txt\n",
      " __MANUAL\t   data.txt\t        file1.txt\t   logs\n",
      " __SHARED\t   data_folder\t        fileA.txt\t   lost+found\n",
      " archive1.tar.gz   data_folder.tar      fileB.txt\t   project\n",
      " archive2.tar.gz   data_folder.tar.gz   fileC.txt\t  'Задание 1'\n",
      " backup\t\t   example.txt\t        fileD.txt\n"
     ]
    }
   ],
   "source": [
    "!ls"
   ]
  },
  {
   "cell_type": "code",
   "execution_count": 104,
   "id": "1ce6f310-72c0-4d50-9c4a-484597bb42f7",
   "metadata": {},
   "outputs": [],
   "source": [
    "!touch data_folder/file1.txt data_folder/file2.txt"
   ]
  },
  {
   "cell_type": "code",
   "execution_count": 105,
   "id": "02b805a9-b61f-4401-b095-457133c15072",
   "metadata": {},
   "outputs": [
    {
     "name": "stdout",
     "output_type": "stream",
     "text": [
      "total 0\n",
      "-rw-r--r-- 1 jovyan users 0 Feb 12 04:54 file1.txt\n",
      "-rw-r--r-- 1 jovyan users 0 Feb 12 04:54 file2.txt\n"
     ]
    }
   ],
   "source": [
    "!ls -lh data_folder"
   ]
  },
  {
   "cell_type": "code",
   "execution_count": null,
   "id": "152e1acd-7b3f-45cf-a374-77c6d78599dc",
   "metadata": {},
   "outputs": [],
   "source": []
  }
 ],
 "metadata": {
  "kernelspec": {
   "display_name": "Python 3 (ipykernel)",
   "language": "python",
   "name": "python3"
  },
  "language_info": {
   "codemirror_mode": {
    "name": "ipython",
    "version": 3
   },
   "file_extension": ".py",
   "mimetype": "text/x-python",
   "name": "python",
   "nbconvert_exporter": "python",
   "pygments_lexer": "ipython3",
   "version": "3.12.7"
  }
 },
 "nbformat": 4,
 "nbformat_minor": 5
}
