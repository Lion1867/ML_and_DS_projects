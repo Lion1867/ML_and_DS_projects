{
  "nbformat": 4,
  "nbformat_minor": 0,
  "metadata": {
    "colab": {
      "provenance": []
    },
    "kernelspec": {
      "name": "python3",
      "display_name": "Python 3"
    },
    "language_info": {
      "name": "python"
    }
  },
  "cells": [
    {
      "cell_type": "code",
      "execution_count": null,
      "metadata": {
        "colab": {
          "base_uri": "https://localhost:8080/"
        },
        "id": "x8Tx_7AHe1iZ",
        "outputId": "32d37990-c5b0-4e3c-fa84-1a5e57924c77"
      },
      "outputs": [
        {
          "output_type": "stream",
          "name": "stdout",
          "text": [
            "\u001b[1m1/1\u001b[0m \u001b[32m━━━━━━━━━━━━━━━━━━━━\u001b[0m\u001b[37m\u001b[0m \u001b[1m0s\u001b[0m 47ms/step\n",
            "Предсказанные значения: [[-0.49999404]\n",
            " [-5.499996  ]\n",
            " [-2.9999952 ]]\n"
          ]
        }
      ],
      "source": [
        "import numpy as np\n",
        "import tensorflow as tf\n",
        "from tensorflow import keras\n",
        "from tensorflow.keras import layers\n",
        "\n",
        "# Создаем обучающие данные: x и y, где y = 0.5 * x - 3\n",
        "x_train = np.linspace(-10, 10, 100)\n",
        "y_train = 0.5 * x_train - 3\n",
        "\n",
        "# Создаем модель нейронной сети\n",
        "model = keras.Sequential([\n",
        "    layers.Dense(1, input_shape=(1,), activation='linear')  # Один нейрон, линейная активация\n",
        "])\n",
        "\n",
        "# Компилируем модель\n",
        "model.compile(optimizer='sgd', loss='mean_squared_error')\n",
        "\n",
        "# Обучаем модель на данных\n",
        "model.fit(x_train, y_train, epochs=500, verbose=0)\n",
        "\n",
        "# Проверим, как нейросеть предсказывает значения\n",
        "x_test = np.array([5, -5, 0])\n",
        "y_pred = model.predict(x_test)\n",
        "\n",
        "print(\"Предсказанные значения:\", y_pred)\n"
      ]
    },
    {
      "cell_type": "code",
      "source": [
        "# Получаем ввод от пользователя\n",
        "x_input = float(input(\"Введите число: \"))\n",
        "\n",
        "# Преобразуем входное значение в массив NumPy\n",
        "x_test = np.array([x_input])\n",
        "\n",
        "# Проверим, как нейросеть предсказывает значение\n",
        "y_pred = model.predict(x_test)\n",
        "\n",
        "print(\"Предсказанное значение:\", y_pred[0][0])"
      ],
      "metadata": {
        "colab": {
          "base_uri": "https://localhost:8080/"
        },
        "id": "6a0e_dh6fSre",
        "outputId": "7b7f9e6d-0c23-4736-db52-31bc8d235a94"
      },
      "execution_count": null,
      "outputs": [
        {
          "output_type": "stream",
          "name": "stdout",
          "text": [
            "Введите число: 1.5\n",
            "\u001b[1m1/1\u001b[0m \u001b[32m━━━━━━━━━━━━━━━━━━━━\u001b[0m\u001b[37m\u001b[0m \u001b[1m0s\u001b[0m 22ms/step\n",
            "Предсказанное значение: -2.2499948\n"
          ]
        }
      ]
    },
    {
      "cell_type": "code",
      "source": [],
      "metadata": {
        "id": "YnPV9BxNg1nJ"
      },
      "execution_count": null,
      "outputs": []
    }
  ]
}