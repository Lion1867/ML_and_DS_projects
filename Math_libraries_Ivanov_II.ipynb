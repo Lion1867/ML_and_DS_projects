{
  "nbformat": 4,
  "nbformat_minor": 0,
  "metadata": {
    "colab": {
      "provenance": []
    },
    "kernelspec": {
      "name": "python3",
      "display_name": "Python 3"
    },
    "language_info": {
      "name": "python"
    }
  },
  "cells": [
    {
      "cell_type": "markdown",
      "source": [
        "Студент: Иванов Илья Игоревич\n",
        "\n",
        "Вариант: 8\n",
        "\n",
        "# Лабораторная работа №4 по математическим библиотекам"
      ],
      "metadata": {
        "id": "295pWz-hasFn"
      }
    },
    {
      "cell_type": "markdown",
      "source": [
        "- Добавьте формулировку задания в виде текстовой ячейки в ноутбук, формулы и\n",
        "уравнения необходимо напечатать с использованием Latex;\n",
        "- Выполните задания с использованием математических библиотек Python"
      ],
      "metadata": {
        "id": "MwyNBEvyjoMn"
      }
    },
    {
      "cell_type": "code",
      "source": [
        "import math"
      ],
      "metadata": {
        "id": "abqqnw71d3jV"
      },
      "execution_count": null,
      "outputs": []
    },
    {
      "cell_type": "markdown",
      "source": [
        "Задание 1. Найти комплексные корни уравнения\n",
        "\n",
        "$$\n",
        "x^2+3x+4=0\n",
        "$$"
      ],
      "metadata": {
        "id": "fljst-o2a-07"
      }
    },
    {
      "cell_type": "code",
      "execution_count": null,
      "metadata": {
        "colab": {
          "base_uri": "https://localhost:8080/"
        },
        "id": "TWuJI8c6Kd1I",
        "outputId": "2031421d-912d-43eb-c083-d1bdec10f060"
      },
      "outputs": [
        {
          "output_type": "stream",
          "name": "stdout",
          "text": [
            "[-3/2 - sqrt(7)*I/2, -3/2 + sqrt(7)*I/2]\n"
          ]
        }
      ],
      "source": [
        "from sympy import *\n",
        "x = Symbol(\"x\")\n",
        "print(solve(x**2+3*x+4))"
      ]
    },
    {
      "cell_type": "markdown",
      "source": [
        "Задание 2. Решить систему уравнений\n",
        "\n",
        "$$\n",
        "\\begin{cases}(1+i)x+(-1+i)y=-6, \\\\(-1+2i)x+(-2+3i)y=8 \\end{cases}\n",
        "$$"
      ],
      "metadata": {
        "id": "dUdMyuiycsE6"
      }
    },
    {
      "cell_type": "code",
      "source": [
        "x = Symbol('x')\n",
        "y = Symbol('y')\n",
        "i=complex(0,1)\n",
        "fl = (1+i)*x+(-1+i)*y+6\n",
        "f2 = (-1+2*i)*x+(-2+3*i)*y-8\n",
        "print(nsolve( (fl, f2), (x, y), (-1, 1)))"
      ],
      "metadata": {
        "colab": {
          "base_uri": "https://localhost:8080/"
        },
        "id": "Fvg_UL25b565",
        "outputId": "49111ac6-e9ed-467f-ab00-950de3397e3c"
      },
      "execution_count": null,
      "outputs": [
        {
          "output_type": "stream",
          "name": "stdout",
          "text": [
            "Matrix([[-5.75 + 0.75*I], [2.25 - 2.75*I]])\n"
          ]
        }
      ]
    },
    {
      "cell_type": "markdown",
      "source": [
        "Задание 3. Даны матрицы, вычислить новую матрицу\n",
        "$$\n",
        "\\begin{pmatrix}\n",
        "4 & 3 & -3 \\\\\n",
        "2 & 3 & -2 \\\\\n",
        "4 & 4 & -3\n",
        "\\end{pmatrix}^{6}\n",
        "$$"
      ],
      "metadata": {
        "id": "5nRI0Xh9fsWA"
      }
    },
    {
      "cell_type": "code",
      "source": [
        "A = Matrix([[4,3,-3],\n",
        "            [2,3,-2],\n",
        "            [4,4,-3]])\n",
        "\n",
        "B = A**6\n",
        "\n",
        "print('Возведение матрицы в 6-ую степень:',B)"
      ],
      "metadata": {
        "colab": {
          "base_uri": "https://localhost:8080/"
        },
        "id": "Et-1y0P5eczx",
        "outputId": "1c0716e3-e3cc-4068-97db-9dd2d256cbe1"
      },
      "execution_count": null,
      "outputs": [
        {
          "output_type": "stream",
          "name": "stdout",
          "text": [
            "Возведение матрицы в 6-ую степень: Matrix([[190, 189, -189], [126, 127, -126], [252, 252, -251]])\n"
          ]
        }
      ]
    },
    {
      "cell_type": "markdown",
      "source": [
        "Задание 4. Создать вектор размера 100 со значениями от 0 до 1, не включая ни 1,\n",
        " ни 0. Получить L1 и L2 норму для полученного вектора (используйте только методы библиотеки Numpy)"
      ],
      "metadata": {
        "id": "NT-9YVRnisac"
      }
    },
    {
      "cell_type": "code",
      "source": [
        "import numpy as np\n",
        "\n",
        "# Установка опций вывода для NumPy\n",
        "np.set_printoptions(suppress=True, precision=5, linewidth=130)\n",
        "\n",
        "# Создание случайного вектора размера 100 со значениями от 0 до 1, не включая ни то, ни другое\n",
        "vector = np.linspace(0,1,100)[1:-1]\n",
        "print(\"Исходный вектор:\")\n",
        "print(vector)\n",
        "\n",
        "# Вычисление L1 нормы: манхэттенская норма\n",
        "l1_norm = np.linalg.norm(vector, ord=1)\n",
        "\n",
        "# Вычисление L2 нормы: евклидова норма\n",
        "l2_norm = np.linalg.norm(vector, ord=2)\n",
        "\n",
        "print(\"L1 норма:\", l1_norm)\n",
        "print(\"L2 норма:\", l2_norm)"
      ],
      "metadata": {
        "colab": {
          "base_uri": "https://localhost:8080/"
        },
        "id": "Km84MJuVhe6i",
        "outputId": "76a4f060-91ad-4893-f899-2ea83135f201"
      },
      "execution_count": null,
      "outputs": [
        {
          "output_type": "stream",
          "name": "stdout",
          "text": [
            "Исходный вектор:\n",
            "[0.0101  0.0202  0.0303  0.0404  0.05051 0.06061 0.07071 0.08081 0.09091 0.10101 0.11111 0.12121 0.13131 0.14141 0.15152 0.16162\n",
            " 0.17172 0.18182 0.19192 0.20202 0.21212 0.22222 0.23232 0.24242 0.25253 0.26263 0.27273 0.28283 0.29293 0.30303 0.31313 0.32323\n",
            " 0.33333 0.34343 0.35354 0.36364 0.37374 0.38384 0.39394 0.40404 0.41414 0.42424 0.43434 0.44444 0.45455 0.46465 0.47475 0.48485\n",
            " 0.49495 0.50505 0.51515 0.52525 0.53535 0.54545 0.55556 0.56566 0.57576 0.58586 0.59596 0.60606 0.61616 0.62626 0.63636 0.64646\n",
            " 0.65657 0.66667 0.67677 0.68687 0.69697 0.70707 0.71717 0.72727 0.73737 0.74747 0.75758 0.76768 0.77778 0.78788 0.79798 0.80808\n",
            " 0.81818 0.82828 0.83838 0.84848 0.85859 0.86869 0.87879 0.88889 0.89899 0.90909 0.91919 0.92929 0.93939 0.94949 0.9596  0.9697\n",
            " 0.9798  0.9899 ]\n",
            "L1 норма: 49.0\n",
            "L2 норма: 5.701024776448837\n"
          ]
        }
      ]
    },
    {
      "cell_type": "code",
      "source": [],
      "metadata": {
        "id": "yDK3uaIDlc9j"
      },
      "execution_count": null,
      "outputs": []
    }
  ]
}