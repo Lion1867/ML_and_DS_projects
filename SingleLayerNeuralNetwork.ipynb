{
  "nbformat": 4,
  "nbformat_minor": 0,
  "metadata": {
    "colab": {
      "provenance": []
    },
    "kernelspec": {
      "name": "python3",
      "display_name": "Python 3"
    },
    "language_info": {
      "name": "python"
    }
  },
  "cells": [
    {
      "cell_type": "code",
      "execution_count": null,
      "metadata": {
        "colab": {
          "base_uri": "https://localhost:8080/",
          "height": 70
        },
        "id": "3d0iB9N44r0I",
        "outputId": "b0493f0f-362d-4fec-b917-78fcdac9f518"
      },
      "outputs": [
        {
          "output_type": "execute_result",
          "data": {
            "text/plain": [
              "'\\nclass SingleLayerNeuralNetwork:\\n\\ndef __init__(self, ..... ): # Инициализируем веса случайными значениями и смещения для каждого нейрона (необходимые параметры вы определяете сами)\\n\\ndef activation(self, x): # функция активации\\n\\ndef derivative(self, x): # Производная функции активации\\n\\ndef predict(self, inputs): # Прямой проход (вычисление предсказания)\\n\\ndef train(self, training_inputs, training_outputs, epochs, learning_rate): # Обучение модели методом обратного распространения ошибки \\n\\n# внутри данной функции выводите, как изменяется ошибка на каждой эпохе'"
            ],
            "application/vnd.google.colaboratory.intrinsic+json": {
              "type": "string"
            }
          },
          "metadata": {},
          "execution_count": 26
        }
      ],
      "source": [
        "'''\n",
        "class SingleLayerNeuralNetwork:\n",
        "\n",
        "def __init__(self, ..... ): # Инициализируем веса случайными значениями и смещения для каждого нейрона (необходимые параметры вы определяете сами)\n",
        "\n",
        "def activation(self, x): # функция активации\n",
        "\n",
        "def derivative(self, x): # Производная функции активации\n",
        "\n",
        "def predict(self, inputs): # Прямой проход (вычисление предсказания)\n",
        "\n",
        "def train(self, training_inputs, training_outputs, epochs, learning_rate): # Обучение модели методом обратного распространения ошибки\n",
        "\n",
        "# внутри данной функции выводите, как изменяется ошибка на каждой эпохе'''"
      ]
    },
    {
      "cell_type": "code",
      "source": [
        "import numpy as np\n",
        "\n",
        "class SingleLayerNeuralNetwork:\n",
        "    def __init__(self, input_size, output_size):\n",
        "        # Инициализация весов и смещения случайными значениями\n",
        "        self.weights = np.random.rand(input_size, output_size) * 0.01  # Уменьшение масштабов случайных весов\n",
        "        self.bias = np.random.rand(output_size) * 0.01\n",
        "\n",
        "    def activation(self, x):\n",
        "        # Линейная функция активации RELU\n",
        "        return np.maximum(0, x)\n",
        "\n",
        "    def derivative(self, x):\n",
        "    # Производная функции активации ReLU\n",
        "        return np.where(x > 0, 1, 0)\n",
        "\n",
        "    def predict(self, inputs):\n",
        "        # Прямой проход (вычисление предсказания)\n",
        "        weighted_sum = np.dot(inputs, self.weights) + self.bias\n",
        "        return self.activation(weighted_sum)\n",
        "\n",
        "    def train(self, training_inputs, training_outputs, epochs, learning_rate):\n",
        "        # Обучение модели методом обратного распространения ошибки\n",
        "        for epoch in range(epochs):\n",
        "            total_error = 0\n",
        "            for inputs, target in zip(training_inputs, training_outputs):\n",
        "                # Прямой проход\n",
        "                output = self.predict(inputs)\n",
        "\n",
        "                # Вычисляем ошибку\n",
        "                error = target - output\n",
        "                total_error += np.mean(error**2)\n",
        "\n",
        "                # Обратное распространение ошибки\n",
        "                adjustments = error * self.derivative(output)\n",
        "\n",
        "                # Обновляем веса и смещение\n",
        "                self.weights += learning_rate * np.dot(inputs.reshape(-1, 1), adjustments.reshape(1, -1))\n",
        "                self.bias += learning_rate * adjustments\n",
        "\n",
        "            print(f'Epoch {epoch+1}/{epochs}, Error: {total_error}')\n",
        "\n",
        "    def mse(self, predicted, actual):\n",
        "        # Метрика MSE\n",
        "        return np.mean((predicted - actual) ** 2)\n",
        "\n",
        "\n",
        "# Масштабирование данных (нормализация)\n",
        "def normalize(data, data_min, data_max):\n",
        "    return (data - data_min) / (data_max - data_min + 1e-8)\n",
        "\n",
        "def denormalize(data, data_min, data_max):\n",
        "    return data * (data_max - data_min) + data_min\n",
        "\n",
        "# Генерация данных для сложения двух чисел\n",
        "def generate_addition_data(num_samples):\n",
        "    X = np.random.randint(0, 100, (num_samples, 2))  # Два случайных числа\n",
        "    y = np.sum(X, axis=1).reshape(-1, 1)  # Их сумма\n",
        "    X_min, X_max = np.min(X, axis=0), np.max(X, axis=0)\n",
        "    y_min, y_max = np.min(y), np.max(y)\n",
        "    X_norm = normalize(X, X_min, X_max)\n",
        "    y_norm = normalize(y, y_min, y_max)\n",
        "    return X_norm, y_norm, X_min, X_max, y_min, y_max\n",
        "\n",
        "# Подготовка данных\n",
        "X_train, y_train, X_train_min, X_train_max, y_train_min, y_train_max = generate_addition_data(1000)\n",
        "X_test, y_test, _, _, _, _ = generate_addition_data(100)\n",
        "\n",
        "# Создаем и обучаем модель\n",
        "nn = SingleLayerNeuralNetwork(input_size=2, output_size=1)\n",
        "nn.train(X_train, y_train, epochs=60, learning_rate=0.01)\n",
        "\n",
        "def get_user_input():\n",
        "    # Получение входных данных от пользователя\n",
        "    try:\n",
        "        a = float(input(\"Введите первое число: \"))\n",
        "        b = float(input(\"Введите второе число: \"))\n",
        "        return np.array([[a, b]])\n",
        "    except ValueError:\n",
        "        print(\"Пожалуйста, введите числовые значения.\")\n",
        "        return None"
      ],
      "metadata": {
        "id": "_ViReIgVF98m",
        "colab": {
          "base_uri": "https://localhost:8080/"
        },
        "outputId": "06124c54-0401-4957-8d67-c3678cfa2669"
      },
      "execution_count": null,
      "outputs": [
        {
          "output_type": "stream",
          "name": "stdout",
          "text": [
            "Epoch 1/60, Error: 21.28603299860939\n",
            "Epoch 2/60, Error: 4.083185469746352\n",
            "Epoch 3/60, Error: 1.3255402399612821\n",
            "Epoch 4/60, Error: 0.4304997918056295\n",
            "Epoch 5/60, Error: 0.13984325321416538\n",
            "Epoch 6/60, Error: 0.045430834026770325\n",
            "Epoch 7/60, Error: 0.014759696088196292\n",
            "Epoch 8/60, Error: 0.004795244890170269\n",
            "Epoch 9/60, Error: 0.001557922925193281\n",
            "Epoch 10/60, Error: 0.0005061519656464844\n",
            "Epoch 11/60, Error: 0.00016444284055654952\n",
            "Epoch 12/60, Error: 5.342542321251807e-05\n",
            "Epoch 13/60, Error: 1.7357214605136535e-05\n",
            "Epoch 14/60, Error: 5.6391198614585225e-06\n",
            "Epoch 15/60, Error: 1.8320698142604692e-06\n",
            "Epoch 16/60, Error: 5.952127967422835e-07\n",
            "Epoch 17/60, Error: 1.933758182153151e-07\n",
            "Epoch 18/60, Error: 6.282490242387842e-08\n",
            "Epoch 19/60, Error: 2.0410859929488393e-08\n",
            "Epoch 20/60, Error: 6.631177495783399e-09\n",
            "Epoch 21/60, Error: 2.1543681019006833e-09\n",
            "Epoch 22/60, Error: 6.999211240079669e-10\n",
            "Epoch 23/60, Error: 2.2739360333380087e-10\n",
            "Epoch 24/60, Error: 7.387667690537713e-11\n",
            "Epoch 25/60, Error: 2.4001392400937057e-11\n",
            "Epoch 26/60, Error: 7.797681733437189e-12\n",
            "Epoch 27/60, Error: 2.5333463022937926e-12\n",
            "Epoch 28/60, Error: 8.230450463668765e-13\n",
            "Epoch 29/60, Error: 2.6739461017363255e-13\n",
            "Epoch 30/60, Error: 8.687237266502465e-14\n",
            "Epoch 31/60, Error: 2.822348949001363e-14\n",
            "Epoch 32/60, Error: 9.169373834362522e-15\n",
            "Epoch 33/60, Error: 2.9789882713793724e-15\n",
            "Epoch 34/60, Error: 9.67827468081884e-16\n",
            "Epoch 35/60, Error: 3.144323202431434e-16\n",
            "Epoch 36/60, Error: 1.0215421792778812e-16\n",
            "Epoch 37/60, Error: 3.318831984151391e-17\n",
            "Epoch 38/60, Error: 1.0782362689858753e-17\n",
            "Epoch 39/60, Error: 3.50304282987737e-18\n",
            "Epoch 40/60, Error: 1.1380848029580854e-18\n",
            "Epoch 41/60, Error: 3.697463720170013e-19\n",
            "Epoch 42/60, Error: 1.201221217024848e-19\n",
            "Epoch 43/60, Error: 3.902542104506797e-20\n",
            "Epoch 44/60, Error: 1.267846115047071e-20\n",
            "Epoch 45/60, Error: 4.119368428810884e-21\n",
            "Epoch 46/60, Error: 1.3380019912349093e-21\n",
            "Epoch 47/60, Error: 4.347922135134761e-22\n",
            "Epoch 48/60, Error: 1.4115956084421064e-22\n",
            "Epoch 49/60, Error: 4.578273888326088e-23\n",
            "Epoch 50/60, Error: 1.4850717837338685e-23\n",
            "Epoch 51/60, Error: 4.798020069632191e-24\n",
            "Epoch 52/60, Error: 1.5336895824144771e-24\n",
            "Epoch 53/60, Error: 4.832431574311635e-25\n",
            "Epoch 54/60, Error: 1.4039623999252345e-25\n",
            "Epoch 55/60, Error: 3.1509554684234325e-26\n",
            "Epoch 56/60, Error: 1.010936961876506e-26\n",
            "Epoch 57/60, Error: 7.039534546873998e-27\n",
            "Epoch 58/60, Error: 6.20192055474427e-27\n",
            "Epoch 59/60, Error: 5.9164563294922776e-27\n",
            "Epoch 60/60, Error: 5.7545175554952014e-27\n"
          ]
        }
      ]
    },
    {
      "cell_type": "code",
      "source": [
        "print(nn.mse(X_test, nn.predict(X_test)))"
      ],
      "metadata": {
        "colab": {
          "base_uri": "https://localhost:8080/"
        },
        "id": "Ad_DU25stfOx",
        "outputId": "f7132d5a-7f8f-494f-9269-21f95b2ab86d"
      },
      "execution_count": null,
      "outputs": [
        {
          "output_type": "stream",
          "name": "stdout",
          "text": [
            "0.04181116471994324\n"
          ]
        }
      ]
    },
    {
      "cell_type": "code",
      "source": [
        "# Пример для суммирования реальных чисел\n",
        "user_input = get_user_input()\n",
        "if user_input is not None:\n",
        "    # Нормализуем данные пользователя с использованием диапазона тренировочных данных\n",
        "    normalized_input = normalize(user_input, X_train_min, X_train_max)\n",
        "    # Предсказание\n",
        "    prediction = nn.predict(normalized_input)\n",
        "    # Денормализация предсказаний\n",
        "    prediction_denorm = denormalize(prediction, y_train_min, y_train_max)\n",
        "    print(f\"Предсказанная сумма: {prediction_denorm[0][0]}\")"
      ],
      "metadata": {
        "colab": {
          "base_uri": "https://localhost:8080/"
        },
        "id": "L-3V8l8kpZ07",
        "outputId": "d6fd4713-767e-45df-93cc-79a1ce366d84"
      },
      "execution_count": null,
      "outputs": [
        {
          "output_type": "stream",
          "name": "stdout",
          "text": [
            "Введите первое число: 5\n",
            "Введите второе число: 9\n",
            "Предсказанная сумма: 13.999999999630546\n"
          ]
        }
      ]
    },
    {
      "cell_type": "code",
      "source": [],
      "metadata": {
        "id": "YSk5DKCCtEIu"
      },
      "execution_count": null,
      "outputs": []
    }
  ]
}